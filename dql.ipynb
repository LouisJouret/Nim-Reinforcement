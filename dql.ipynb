{
 "cells": [
  {
   "cell_type": "code",
   "execution_count": 1,
   "id": "29100539-72ee-4783-82ab-db31123c4a96",
   "metadata": {
    "execution": {
     "iopub.execute_input": "2022-06-06T12:21:02.989404Z",
     "iopub.status.busy": "2022-06-06T12:21:02.988708Z",
     "iopub.status.idle": "2022-06-06T12:21:03.003461Z",
     "shell.execute_reply": "2022-06-06T12:21:03.002487Z",
     "shell.execute_reply.started": "2022-06-06T12:21:02.989322Z"
    }
   },
   "outputs": [
    {
     "data": {
      "text/plain": [
       "'\\nstate - 3x3 = 9bits (binary representations of the heaps\\n9 x 128 x 128 x 21 \\nhidden - relu\\nout - linear (??), directly q values\\nmaking unavailable actions is ok, you get -1 and finish the game\\n\\ndiscount gamma = 0.99\\nbuffer of size 10 000\\nbatch 64\\nupdate hte target every 500 games\\nhuber loss with delta=1\\nAdam optimizer\\n\\nlearning rate start with 5 10^(-4)\\n\\n\\nplots;\\naverage reward and training loss every 250 games\\ncomputing Mtest Mopt\\n\\nmodifications:\\nwithout the buffer, batch=1\\n\\n'"
      ]
     },
     "execution_count": 1,
     "metadata": {},
     "output_type": "execute_result"
    }
   ],
   "source": [
    "\"\"\"\n",
    "state - 3x3 = 9bits (binary representations of the heaps\n",
    "9 x 128 x 128 x 21 \n",
    "hidden - relu\n",
    "out - linear (??), directly q values\n",
    "making unavailable actions is ok, you get -1 and finish the game\n",
    "\n",
    "discount gamma = 0.99\n",
    "buffer of size 10 000\n",
    "batch 64\n",
    "update hte target every 500 games\n",
    "huber loss with delta=1\n",
    "Adam optimizer\n",
    "\n",
    "learning rate start with 5 10^(-4)\n",
    "\n",
    "\n",
    "plots;\n",
    "average reward and training loss every 250 games\n",
    "computing Mtest Mopt\n",
    "\n",
    "modifications:\n",
    "without the buffer, batch=1\n",
    "\n",
    "\"\"\""
   ]
  },
  {
   "cell_type": "code",
   "execution_count": 2,
   "id": "eb1b4e15-bdb0-482a-ab23-b9dafeb6b8c4",
   "metadata": {
    "execution": {
     "iopub.execute_input": "2022-06-06T12:21:03.005053Z",
     "iopub.status.busy": "2022-06-06T12:21:03.004871Z",
     "iopub.status.idle": "2022-06-06T12:21:04.587161Z",
     "shell.execute_reply": "2022-06-06T12:21:04.586373Z",
     "shell.execute_reply.started": "2022-06-06T12:21:03.005032Z"
    }
   },
   "outputs": [],
   "source": [
    "import random\n",
    "import itertools\n",
    "from tqdm import tqdm\n",
    "\n",
    "import numpy as np\n",
    "import matplotlib\n",
    "import matplotlib.pyplot as plt\n",
    "from collections import namedtuple, deque\n",
    "\n",
    "import torch\n",
    "import torch.nn as nn\n",
    "import torch.optim as optim\n",
    "import torch.nn.functional as F\n",
    "\n",
    "\n",
    "from nim_env import NimEnv, OptimalPlayer"
   ]
  },
  {
   "cell_type": "code",
   "execution_count": 3,
   "id": "c2e7c739-e0d8-4d88-bd92-87474a7cd100",
   "metadata": {
    "execution": {
     "iopub.execute_input": "2022-06-06T12:21:04.588410Z",
     "iopub.status.busy": "2022-06-06T12:21:04.588233Z",
     "iopub.status.idle": "2022-06-06T12:21:04.593413Z",
     "shell.execute_reply": "2022-06-06T12:21:04.592757Z",
     "shell.execute_reply.started": "2022-06-06T12:21:04.588390Z"
    }
   },
   "outputs": [
    {
     "data": {
      "text/plain": [
       "<matplotlib.pyplot._IonContext at 0x7fe591d8d100>"
      ]
     },
     "execution_count": 3,
     "metadata": {},
     "output_type": "execute_result"
    }
   ],
   "source": [
    "is_ipython = 'inline' in matplotlib.get_backend()\n",
    "if is_ipython:\n",
    "    from IPython import display\n",
    "plt.ion()"
   ]
  },
  {
   "cell_type": "code",
   "execution_count": 4,
   "id": "8c612391-66ba-4873-97f0-b2e46e3934f3",
   "metadata": {
    "execution": {
     "iopub.execute_input": "2022-06-06T12:21:04.595252Z",
     "iopub.status.busy": "2022-06-06T12:21:04.594729Z",
     "iopub.status.idle": "2022-06-06T12:21:04.639380Z",
     "shell.execute_reply": "2022-06-06T12:21:04.638665Z",
     "shell.execute_reply.started": "2022-06-06T12:21:04.595229Z"
    }
   },
   "outputs": [],
   "source": [
    "device = torch.device('cuda' if torch.cuda.is_available() else 'cpu')"
   ]
  },
  {
   "cell_type": "code",
   "execution_count": 5,
   "id": "52b3dd84-5ee0-403d-a0cc-5e141ae2f439",
   "metadata": {
    "execution": {
     "iopub.execute_input": "2022-06-06T12:21:04.640545Z",
     "iopub.status.busy": "2022-06-06T12:21:04.640386Z",
     "iopub.status.idle": "2022-06-06T12:21:04.643830Z",
     "shell.execute_reply": "2022-06-06T12:21:04.643271Z",
     "shell.execute_reply.started": "2022-06-06T12:21:04.640525Z"
    }
   },
   "outputs": [],
   "source": [
    "Transition = namedtuple('Transition', ('state', 'action', 'next_state', 'reward'))"
   ]
  },
  {
   "cell_type": "code",
   "execution_count": 6,
   "id": "ce3a6768-1c51-4073-9800-dee57ef33867",
   "metadata": {
    "execution": {
     "iopub.execute_input": "2022-06-06T12:21:04.644774Z",
     "iopub.status.busy": "2022-06-06T12:21:04.644628Z",
     "iopub.status.idle": "2022-06-06T12:21:04.650584Z",
     "shell.execute_reply": "2022-06-06T12:21:04.650035Z",
     "shell.execute_reply.started": "2022-06-06T12:21:04.644757Z"
    }
   },
   "outputs": [],
   "source": [
    "class ReplayBuffer:\n",
    "    def __init__(self, capacity=10*1000):\n",
    "        self.memory = deque([], maxlen=capacity)\n",
    "\n",
    "    def push(self, *args):\n",
    "        self.memory.append(Transition(*args))\n",
    "\n",
    "    def sample(self, batch_size=64):\n",
    "        return random.sample(self.memory, batch_size)\n",
    "\n",
    "    def __len__(self):\n",
    "        return len(self.memory)"
   ]
  },
  {
   "cell_type": "code",
   "execution_count": 7,
   "id": "141c4351-4c7b-4e55-b910-959092d5917d",
   "metadata": {
    "execution": {
     "iopub.execute_input": "2022-06-06T12:21:04.651482Z",
     "iopub.status.busy": "2022-06-06T12:21:04.651340Z",
     "iopub.status.idle": "2022-06-06T12:21:04.656113Z",
     "shell.execute_reply": "2022-06-06T12:21:04.655560Z",
     "shell.execute_reply.started": "2022-06-06T12:21:04.651465Z"
    }
   },
   "outputs": [],
   "source": [
    "class DeepQNetwork(nn.Module):\n",
    "    def __init__(self):\n",
    "        super(DeepQNetwork, self).__init__()\n",
    "    \n",
    "        self.hidden1 = nn.Linear(9, 128)\n",
    "        self.hidden2 = nn.Linear(128, 128)\n",
    "        self.output  = nn.Linear(128, 21)\n",
    "    \n",
    "    def forward(self, x):\n",
    "        x = x.to(device)\n",
    "        x = F.relu(self.hidden1(x))\n",
    "        x = F.relu(self.hidden2(x))\n",
    "        x = self.output(x)\n",
    "        return x"
   ]
  },
  {
   "cell_type": "code",
   "execution_count": 8,
   "id": "59beb35d-89cf-44d2-a19e-9deda29c3b9c",
   "metadata": {
    "execution": {
     "iopub.execute_input": "2022-06-06T12:21:04.657095Z",
     "iopub.status.busy": "2022-06-06T12:21:04.656922Z",
     "iopub.status.idle": "2022-06-06T12:21:06.900495Z",
     "shell.execute_reply": "2022-06-06T12:21:06.899692Z",
     "shell.execute_reply.started": "2022-06-06T12:21:04.657075Z"
    }
   },
   "outputs": [],
   "source": [
    "replay_buffer = ReplayBuffer(capacity=10000)\n",
    "BATCH_SIZE = 64\n",
    "GAMMA = 0.99\n",
    "TARGET_UPDATE_EVERY = 500\n",
    "LEARNING_RATE = 5*10**-4\n",
    "\n",
    "policy_net = DeepQNetwork().to(device)\n",
    "target_net = DeepQNetwork().to(device)\n",
    "target_net.load_state_dict(policy_net.state_dict())\n",
    "target_net.eval()\n",
    "\n",
    "criterion = nn.HuberLoss(delta=1.0)\n",
    "optimizer = optim.Adam(policy_net.parameters())"
   ]
  },
  {
   "cell_type": "code",
   "execution_count": 9,
   "id": "41f6b65e-49ca-48eb-adc7-9deb76b9c402",
   "metadata": {
    "execution": {
     "iopub.execute_input": "2022-06-06T12:21:06.901644Z",
     "iopub.status.busy": "2022-06-06T12:21:06.901479Z",
     "iopub.status.idle": "2022-06-06T12:21:06.907485Z",
     "shell.execute_reply": "2022-06-06T12:21:06.906971Z",
     "shell.execute_reply.started": "2022-06-06T12:21:06.901625Z"
    }
   },
   "outputs": [],
   "source": [
    "def state_to_heaps(x):\n",
    "    x = x.tolist()\n",
    "    return tuple(round(4*z[0]+2*z[1]+z[2]) for z in (x[:3], x[3:6], x[6:]))\n",
    "\n",
    "def heaps_to_state(heaps):\n",
    "    x = [heaps[0]//4, (heaps[0]%4)//2, heaps[0]&1] + [heaps[1]//4, (heaps[1]%4)//2, heaps[1]&1] + [heaps[2]//4, (heaps[2]%4)//2, heaps[2]&1]\n",
    "    return torch.tensor(x, dtype=torch.float32)\n",
    "\n",
    "\n",
    "assert state_to_heaps(heaps_to_state([6,2,7])) == (6,2,7)\n",
    "assert state_to_heaps(heaps_to_state([0,5,3])) == (0,5,3)"
   ]
  },
  {
   "cell_type": "code",
   "execution_count": 10,
   "id": "f7870b69-260a-4249-9819-b329c20dbc5d",
   "metadata": {
    "execution": {
     "iopub.execute_input": "2022-06-06T12:21:06.909310Z",
     "iopub.status.busy": "2022-06-06T12:21:06.909157Z",
     "iopub.status.idle": "2022-06-06T12:21:06.914596Z",
     "shell.execute_reply": "2022-06-06T12:21:06.914054Z",
     "shell.execute_reply.started": "2022-06-06T12:21:06.909292Z"
    }
   },
   "outputs": [],
   "source": [
    "def hot_index_to_action(idx):\n",
    "    assert 0 <= idx < 21\n",
    "    return torch.tensor([(torch.div(idx,7,rounding_mode='floor'))+1, (idx%7)+1], device=device)\n",
    "\n",
    "def select_action(state, eps_treshold=0.1):\n",
    "    if random.random() > eps_treshold: # move recommended by the network\n",
    "        with torch.no_grad():\n",
    "            raw_out = torch.argmax(policy_net(state)).item()\n",
    "            return hot_index_to_action(raw_out)\n",
    "    else: # random move\n",
    "        heaps = state_to_heaps(state)\n",
    "        heaps_avail = [i for i in range(len(heaps)) if heaps[i] > 0]\n",
    "        chosen_heap = random.choice(heaps_avail)\n",
    "        n_obj = random.choice(range(1, heaps[chosen_heap] + 1))\n",
    "        move = [chosen_heap + 1, n_obj]\n",
    "        return torch.tensor(move, device=device)"
   ]
  },
  {
   "cell_type": "code",
   "execution_count": 11,
   "id": "4d866cfd-0e62-49e2-8b91-43ed9bcdfce6",
   "metadata": {
    "execution": {
     "iopub.execute_input": "2022-06-06T12:21:06.915573Z",
     "iopub.status.busy": "2022-06-06T12:21:06.915428Z",
     "iopub.status.idle": "2022-06-06T12:36:53.156499Z",
     "shell.execute_reply": "2022-06-06T12:36:53.155605Z",
     "shell.execute_reply.started": "2022-06-06T12:21:06.915554Z"
    }
   },
   "outputs": [
    {
     "name": "stderr",
     "output_type": "stream",
     "text": [
      "100%|██████████| 20000/20000 [15:46<00:00, 21.14it/s]"
     ]
    },
    {
     "name": "stdout",
     "output_type": "stream",
     "text": [
      "Training done\n"
     ]
    },
    {
     "name": "stderr",
     "output_type": "stream",
     "text": [
      "\n"
     ]
    }
   ],
   "source": [
    "def optimize_model(recent_losses):\n",
    "    if len(replay_buffer) < BATCH_SIZE:\n",
    "        return\n",
    "    \n",
    "    transitions = replay_buffer.sample(BATCH_SIZE)\n",
    "    batch = Transition(*zip(*transitions))\n",
    "\n",
    "    non_final_mask = torch.tensor(tuple(map(lambda s: s is not None, batch.next_state)),\n",
    "                                 device=device, dtype=torch.bool)\n",
    "    non_final_next_states = torch.cat([s for s in batch.next_state if s is not None]).view(-1, 9)\n",
    "    state_batch  = torch.cat(batch.state).view(-1, 9)\n",
    "    action_batch = torch.cat(batch.action).view(-1, 2)\n",
    "    reward_batch = torch.cat(batch.reward)\n",
    "    \n",
    "    state_action_values = policy_net(state_batch).gather(1, torch.tensor([ [(a[0]-1)*7+a[1]-1] for a in action_batch]).to(device))\n",
    "    \n",
    "    next_state_values = torch.zeros(BATCH_SIZE, device=device)\n",
    "    next_state_values[non_final_mask] = target_net(non_final_next_states).max(1)[0].detach()\n",
    "    \n",
    "    expected_state_action_values = (next_state_values * GAMMA) + reward_batch\n",
    "\n",
    "    loss = criterion(state_action_values, expected_state_action_values.unsqueeze(1))\n",
    "    recent_losses.append(loss.cpu().item())\n",
    "\n",
    "    optimizer.zero_grad()\n",
    "    loss.backward()\n",
    "    for param in policy_net.parameters():\n",
    "        param.grad.data.clamp_(-1, 1)\n",
    "    optimizer.step()\n",
    "\n",
    "\n",
    "\n",
    "def train(against=OptimalPlayer(0.5)):\n",
    "    # against is None => play against itself\n",
    "    \n",
    "    avg_loss_over_time = []\n",
    "    avg_reward_over_time = []\n",
    "    recent_losses = []\n",
    "    recent_rewards = []\n",
    "    \n",
    "    env = NimEnv()\n",
    "    num_games = 20*1000\n",
    "    for i_game in tqdm(range(num_games)):\n",
    "        env.reset()\n",
    "        env.current_player = i_game % 2\n",
    "        state = heaps_to_state(env.heaps)\n",
    "        for t in itertools.count():\n",
    "            \n",
    "            current_player = env.current_player\n",
    "            \n",
    "            if against is None:\n",
    "                action = select_action(state)\n",
    "            else:\n",
    "                if current_player:\n",
    "                    action = select_action(state)\n",
    "                else:\n",
    "                    action = torch.tensor(against.act(env.heaps), device=device)\n",
    "            \n",
    "            try:\n",
    "                next_heaps, done, winner = env.step(action)\n",
    "                next_state = heaps_to_state(next_heaps)\n",
    "                if not done:\n",
    "                    reward = torch.tensor([0], device=device)\n",
    "                else:\n",
    "                    # assert current_player == winner\n",
    "                    reward = torch.tensor([1], device=device)\n",
    "                    recent_rewards.append(reward.item())\n",
    "                    replay_buffer.push(state, action, next_state, reward)\n",
    "                    optimize_model(recent_losses)\n",
    "                    \n",
    "                    state = next_step\n",
    "                    next_state = None\n",
    "                    reward = torch.tensor([-1], device=device)\n",
    "                    current_player ^= 1\n",
    "                    if against is None:\n",
    "                        action = select_action(state)\n",
    "                    else:\n",
    "                        if current_player:\n",
    "                            action = select_action(state)\n",
    "                        else:\n",
    "                            action = torch.tensor(against.act(env.heaps), device=device)\n",
    "                    \n",
    "            except: # incorrect move\n",
    "                reward = torch.tensor([-1], device=device)\n",
    "                next_state = None\n",
    "                done = True\n",
    "            \n",
    "            recent_rewards.append(reward.item())\n",
    "            replay_buffer.push(state, action, next_state, reward)\n",
    "            state = next_state\n",
    "            optimize_model(recent_losses)\n",
    "            if done: break\n",
    "\n",
    "        if (i_game+1) % TARGET_UPDATE_EVERY == 0:\n",
    "            target_net.load_state_dict(policy_net.state_dict())\n",
    "        if (i_game+1) % 250 == 0:\n",
    "            avg_loss_over_time.append(np.array(recent_losses).mean())\n",
    "            avg_reward_over_time.append(np.array(recent_rewards).mean())\n",
    "            recent_losses = []\n",
    "            recent_rewards = []\n",
    "    \n",
    "    print('Training done')\n",
    "    return avg_loss_over_time, avg_reward_over_time\n",
    "\n",
    "\n",
    "al, ar = train()"
   ]
  },
  {
   "cell_type": "code",
   "execution_count": 18,
   "id": "c61bd9a2-a3ef-413e-9916-0a8b574fc0fd",
   "metadata": {
    "execution": {
     "iopub.execute_input": "2022-06-06T12:36:57.159707Z",
     "iopub.status.busy": "2022-06-06T12:36:57.159464Z",
     "iopub.status.idle": "2022-06-06T12:36:57.165279Z",
     "shell.execute_reply": "2022-06-06T12:36:57.164350Z",
     "shell.execute_reply.started": "2022-06-06T12:36:57.159684Z"
    }
   },
   "outputs": [],
   "source": [
    "class DQNPlayer:\n",
    "    def __init__(self, policy_net, player=0):\n",
    "        self.player = player\n",
    "        self.policy_net = policy_net\n",
    "        \n",
    "    def set_player(self, player = 0, j=-1):\n",
    "        self.player = player\n",
    "        if j != -1:\n",
    "            self.player = 0 if j % 2 == 0 else 1\n",
    "    \n",
    "    def act(self, heaps, **kwargs):\n",
    "        with torch.no_grad():\n",
    "            return hot_index_to_action(self.policy_net(heaps_to_state(heaps)).argmax())"
   ]
  },
  {
   "cell_type": "code",
   "execution_count": 19,
   "id": "2696af05-3200-4417-8d3c-74e856e8ae28",
   "metadata": {
    "execution": {
     "iopub.execute_input": "2022-06-06T12:36:58.295502Z",
     "iopub.status.busy": "2022-06-06T12:36:58.295258Z",
     "iopub.status.idle": "2022-06-06T12:36:58.302460Z",
     "shell.execute_reply": "2022-06-06T12:36:58.302031Z",
     "shell.execute_reply.started": "2022-06-06T12:36:58.295480Z"
    }
   },
   "outputs": [],
   "source": [
    "def measure_effectivenes_of_policy(policy, adversary_policy, N_games = 500):\n",
    "    wins, loses = 0, 0\n",
    "    for game_i in range(N_games):\n",
    "        turn = game_i % 2\n",
    "        policy.set_player(game_i % 2)\n",
    "        adversary_policy.set_player((game_i % 2) ^ 1)\n",
    "        \n",
    "        env = NimEnv(random.randint(0, 10e9))\n",
    "        \n",
    "        while not env.end:\n",
    "            if turn == 0:\n",
    "                try:\n",
    "                    env.step(policy.act(env.heaps))\n",
    "                except:\n",
    "                    env.winner = policy.player ^ 1\n",
    "                    break\n",
    "            else:\n",
    "                try:\n",
    "                    env.step(adversary_policy.act(env.heaps))\n",
    "                except:\n",
    "                    env.winner = adversary_policy.player ^ 1\n",
    "                    break    \n",
    "                    \n",
    "            turn ^= 1\n",
    "        \n",
    "        assert env.winner is not None\n",
    "        if env.winner == policy.player:\n",
    "            wins += 1\n",
    "        else:\n",
    "            loses += 1\n",
    "        \n",
    "    print(f'{wins=}, {loses=}')\n",
    "    return (wins - loses) / N_games\n",
    "\n",
    "\n",
    "def M_opt(policy, N_games = 500):\n",
    "    return measure_effectivenes_of_policy(policy, OptimalPlayer(epsilon=0), N_games)\n",
    "\n",
    "\n",
    "def M_rand(policy, N_games = 500):\n",
    "    return measure_effectivenes_of_policy(policy, OptimalPlayer(epsilon=1), N_games)"
   ]
  },
  {
   "cell_type": "code",
   "execution_count": 30,
   "id": "fdd33f54-9121-4e31-b035-e97be492ad9b",
   "metadata": {
    "execution": {
     "iopub.execute_input": "2022-06-06T12:37:44.334162Z",
     "iopub.status.busy": "2022-06-06T12:37:44.333918Z",
     "iopub.status.idle": "2022-06-06T12:37:45.032767Z",
     "shell.execute_reply": "2022-06-06T12:37:45.032146Z",
     "shell.execute_reply.started": "2022-06-06T12:37:44.334137Z"
    }
   },
   "outputs": [
    {
     "name": "stdout",
     "output_type": "stream",
     "text": [
      "wins=267, loses=233\n"
     ]
    },
    {
     "data": {
      "text/plain": [
       "0.068"
      ]
     },
     "execution_count": 30,
     "metadata": {},
     "output_type": "execute_result"
    }
   ],
   "source": [
    "M_rand(DQNPlayer(policy_net))"
   ]
  },
  {
   "cell_type": "code",
   "execution_count": 31,
   "id": "61dc1d96-99f8-41d2-970e-9de2bae93ed6",
   "metadata": {
    "execution": {
     "iopub.execute_input": "2022-06-06T12:37:45.111583Z",
     "iopub.status.busy": "2022-06-06T12:37:45.110706Z",
     "iopub.status.idle": "2022-06-06T12:37:45.815232Z",
     "shell.execute_reply": "2022-06-06T12:37:45.814642Z",
     "shell.execute_reply.started": "2022-06-06T12:37:45.111555Z"
    }
   },
   "outputs": [
    {
     "name": "stdout",
     "output_type": "stream",
     "text": [
      "wins=4, loses=496\n"
     ]
    },
    {
     "data": {
      "text/plain": [
       "-0.984"
      ]
     },
     "execution_count": 31,
     "metadata": {},
     "output_type": "execute_result"
    }
   ],
   "source": [
    "M_opt(DQNPlayer(policy_net))"
   ]
  },
  {
   "cell_type": "code",
   "execution_count": 22,
   "id": "dcadc37b-a5ad-4446-86fd-a11ce2716155",
   "metadata": {
    "execution": {
     "iopub.execute_input": "2022-06-06T12:37:03.782194Z",
     "iopub.status.busy": "2022-06-06T12:37:03.781941Z",
     "iopub.status.idle": "2022-06-06T12:37:03.879737Z",
     "shell.execute_reply": "2022-06-06T12:37:03.879297Z",
     "shell.execute_reply.started": "2022-06-06T12:37:03.782170Z"
    }
   },
   "outputs": [
    {
     "data": {
      "image/png": "[encoded data removed]",
      "text/plain": [
       "<Figure size 432x288 with 1 Axes>"
      ]
     },
     "metadata": {
      "needs_background": "light"
     },
     "output_type": "display_data"
    }
   ],
   "source": [
    "plt.plot(range(len(ar)), ar)\n",
    "plt.show()"
   ]
  },
  {
   "cell_type": "code",
   "execution_count": 23,
   "id": "84007dab-85b4-41f0-8f28-dcebe9ac09b4",
   "metadata": {
    "execution": {
     "iopub.execute_input": "2022-06-06T12:37:05.055093Z",
     "iopub.status.busy": "2022-06-06T12:37:05.054420Z",
     "iopub.status.idle": "2022-06-06T12:37:05.272274Z",
     "shell.execute_reply": "2022-06-06T12:37:05.271618Z",
     "shell.execute_reply.started": "2022-06-06T12:37:05.055063Z"
    }
   },
   "outputs": [
    {
     "data": {
      "image/png": "[encoded data removed]",
      "text/plain": [
       "<Figure size 432x288 with 1 Axes>"
      ]
     },
     "metadata": {
      "needs_background": "light"
     },
     "output_type": "display_data"
    }
   ],
   "source": [
    "plt.plot(range(len(al)), al)\n",
    "plt.show()"
   ]
  }
 ],
 "metadata": {
  "kernelspec": {
   "display_name": "Python 3 (ipykernel)",
   "language": "python",
   "name": "python3"
  },
  "language_info": {
   "codemirror_mode": {
    "name": "ipython",
    "version": 3
   },
   "file_extension": ".py",
   "mimetype": "text/x-python",
   "name": "python",
   "nbconvert_exporter": "python",
   "pygments_lexer": "ipython3",
   "version": "3.8.12"
  }
 },
 "nbformat": 4,
 "nbformat_minor": 5
}
